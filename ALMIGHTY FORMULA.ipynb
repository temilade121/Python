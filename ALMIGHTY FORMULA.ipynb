{
 "cells": [
  {
   "cell_type": "code",
   "execution_count": 1,
   "id": "68dc68d6",
   "metadata": {},
   "outputs": [],
   "source": [
    "import math"
   ]
  },
  {
   "cell_type": "code",
   "execution_count": 5,
   "id": "36868e31",
   "metadata": {},
   "outputs": [
    {
     "name": "stdout",
     "output_type": "stream",
     "text": [
      "a2\n",
      "b11\n",
      "c14\n"
     ]
    }
   ],
   "source": [
    "import math\n",
    "a = int(input('a'))\n",
    "b = int(input('b'))\n",
    "c = int(input('c'))\n",
    "Answer=(-b+math.sqrt(b**2-4*a*c))/2*a"
   ]
  },
  {
   "cell_type": "code",
   "execution_count": 6,
   "id": "10ed0637",
   "metadata": {},
   "outputs": [
    {
     "name": "stdout",
     "output_type": "stream",
     "text": [
      "-8.0\n"
     ]
    }
   ],
   "source": [
    "print(Answer)"
   ]
  },
  {
   "cell_type": "code",
   "execution_count": null,
   "id": "cba23562",
   "metadata": {},
   "outputs": [],
   "source": []
  }
 ],
 "metadata": {
  "kernelspec": {
   "display_name": "Python 3 (ipykernel)",
   "language": "python",
   "name": "python3"
  },
  "language_info": {
   "codemirror_mode": {
    "name": "ipython",
    "version": 3
   },
   "file_extension": ".py",
   "mimetype": "text/x-python",
   "name": "python",
   "nbconvert_exporter": "python",
   "pygments_lexer": "ipython3",
   "version": "3.11.4"
  }
 },
 "nbformat": 4,
 "nbformat_minor": 5
}
